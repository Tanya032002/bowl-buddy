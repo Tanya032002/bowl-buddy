{
 "cells": [
  {
   "attachments": {},
   "cell_type": "markdown",
   "metadata": {},
   "source": [
    "# 1. Use SAM for Image Segmentation\n",
    "# 2. Use Pose Detection to find the pose of the person\n",
    "# 3. Segment Diffrent parts of the body"
   ]
  },
  {
   "cell_type": "markdown",
   "metadata": {},
   "source": [
    "# Directory class"
   ]
  },
  {
   "cell_type": "code",
   "execution_count": 3,
   "metadata": {},
   "outputs": [],
   "source": [
    "import cv2\n",
    "import matplotlib.pyplot as plt\n",
    "import os\n",
    "\n",
    "class DirectoryBuddy:\n",
    "    \n",
    "    def __init__(self, parent_directory_path):\n",
    "        \n",
    "        if not os.path.isdir(parent_directory_path):\n",
    "            raise ValueError(\"Invalid directory path.\")\n",
    "        \n",
    "        self.parent_directory_path = parent_directory_path\n",
    "        self.parent_directory = os.listdir(parent_directory_path)\n",
    "    \n",
    "    def rename_image_paths(self, show_path=False):\n",
    "        \n",
    "        for folder_name in self.parent_directory:\n",
    "            folder_path = os.path.join(self.parent_directory_path, folder_name)\n",
    "            \n",
    "            for i, filename in enumerate(os.listdir(folder_path)):\n",
    "                image_path = os.path.join(folder_path, filename)\n",
    "                \n",
    "                if not os.path.isfile(image_path):\n",
    "                    continue\n",
    "                \n",
    "                new_image_name = os.path.join(folder_path, f\"{i}.jpg\")\n",
    "                \n",
    "                if show_path:\n",
    "                    print(image_path+ \" -> \" + new_image_name)\n",
    "                \n",
    "                try:\n",
    "                    os.rename(image_path, new_image_name)\n",
    "                except OSError as e:\n",
    "                    print(f\"Error renaming file: {e}\")\n",
    "    \n",
    "    def show_image(self, image_path):\n",
    "        \n",
    "        try:\n",
    "            img = cv2.imread(image_path)\n",
    "            img = cv2.cvtColor(img, cv2.COLOR_BGR2RGB)\n",
    "            \n",
    "            plt.imshow(img)\n",
    "            plt.axis('off')\n",
    "            plt.show()\n",
    "        except:\n",
    "            pass\n",
    "        \n",
    "       \n",
    "        \n",
    "    def show_image(self, image):\n",
    "        try:\n",
    "            image = cv2.cvtColor(image, cv2.COLOR_BGR2RGB)\n",
    "            \n",
    "            plt.imshow(image)\n",
    "            plt.axis('off')\n",
    "            plt.show()\n",
    "        except:\n",
    "            pass              \n",
    "            \n",
    "            \n",
    "    def create_image_array(self,show=False):\n",
    "        \n",
    "        folder_dictionary={}\n",
    "        for folder_name in self.parent_directory:\n",
    "            folder_path = os.path.join(self.parent_directory_path, folder_name)\n",
    "            \n",
    "            image_array=[]\n",
    "            \n",
    "            \n",
    "            for i, filename in enumerate(os.listdir(folder_path)):\n",
    "                image_path = os.path.join(folder_path, filename)\n",
    "                \n",
    "                image=cv2.imread(image_path)\n",
    "                image_array.append(image)  \n",
    "                if show:\n",
    "                    self.show_image(image)\n",
    "                    \n",
    "            folder_dictionary[folder_name]=[image_array,image_path]\n",
    "            \n",
    "        return folder_dictionary\n",
    "    \n",
    "    def export_to_directory(self, export_directory,callback_function):\n",
    "    \n",
    "        if not os.path.isdir(export_directory):\n",
    "            os.mkdir(export_directory)\n",
    "            \n",
    "        for folder_name in self.parent_directory:\n",
    "            folder_path=os.path.join(self.parent_directory_path,folder_name)#../raw/good\n",
    "            folder=os.listdir(folder_path)\n",
    "            folder.sort()\n",
    "            \n",
    "            export_path=os.path.join(export_directory,folder_name)\n",
    "            print(export_path)\n",
    "            \n",
    "            try :\n",
    "                os.mkdir(export_path)\n",
    "            except:\n",
    "                pass    \n",
    "                    \n",
    "            for i in range(0,len(folder)):\n",
    "            \n",
    "                image_path=os.path.join(folder_path,folder[i])\n",
    "                export_image_path=os.path.join(export_path,folder[i])\n",
    "                \n",
    "                box=callback_function(image_path)\n",
    "                flag=cv2.imwrite(export_image_path,box)\n",
    "                \n",
    "                print(export_image_path + ' : ' + str(flag))    \n",
    "                \n",
    "director=DirectoryBuddy('../raw')"
   ]
  },
  {
   "cell_type": "markdown",
   "metadata": {},
   "source": [
    "# Detector class"
   ]
  },
  {
   "cell_type": "code",
   "execution_count": 4,
   "metadata": {},
   "outputs": [
    {
     "name": "stderr",
     "output_type": "stream",
     "text": [
      "/home/sampurn/.local/lib/python3.10/site-packages/tqdm/auto.py:21: TqdmWarning: IProgress not found. Please update jupyter and ipywidgets. See https://ipywidgets.readthedocs.io/en/stable/user_install.html\n",
      "  from .autonotebook import tqdm as notebook_tqdm\n",
      "[2023-07-16 20:51:45] INFO - crash_tips_setup.py - Crash tips is enabled. You can set your environment variable to CRASH_HANDLER=FALSE to disable it\n"
     ]
    },
    {
     "name": "stdout",
     "output_type": "stream",
     "text": [
      "The console stream is logged into /home/sampurn/sg_logs/console.log\n"
     ]
    },
    {
     "name": "stderr",
     "output_type": "stream",
     "text": [
      "[2023-07-16 20:51:47] WARNING - __init__.py - Failed to import pytorch_quantization\n",
      "[2023-07-16 20:51:47] WARNING - calibrator.py - Failed to import pytorch_quantization\n",
      "[2023-07-16 20:51:47] WARNING - export.py - Failed to import pytorch_quantization\n",
      "[2023-07-16 20:51:47] WARNING - selective_quantization_utils.py - Failed to import pytorch_quantization\n",
      "[2023-07-16 20:51:47] INFO - checkpoint_utils.py - License Notification: YOLO-NAS pre-trained weights are subjected to the specific license terms and conditions detailed in \n",
      "https://github.com/Deci-AI/super-gradients/blob/master/LICENSE.YOLONAS.md\n",
      "By downloading the pre-trained weight files you agree to comply with these terms.\n"
     ]
    }
   ],
   "source": [
    "from super_gradients.training import models\n",
    "import matplotlib.pyplot as plt\n",
    "import cv2\n",
    "\n",
    "class DetectBuddy():\n",
    "    \n",
    "    def __init__(self,model_name='yolo_nas_l',weights='coco',conf_threshold=0.8):\n",
    "        self.model = models.get(model_name, pretrained_weights=weights)\n",
    "        self.conf_threshold=conf_threshold\n",
    "        self.detection_list=[]\n",
    "        \n",
    "    def predict_human(self,image_path,show=False):\n",
    "        \n",
    "        prediction = self.model.predict(image_path, conf=self.conf_threshold)\n",
    "        if show:\n",
    "            prediction.show()\n",
    "        \n",
    "        detection_pred = prediction._images_prediction_lst\n",
    "        self.detection_list = list(detection_pred)\n",
    "        \n",
    "    \n",
    "    \n",
    "    def predict_human(self,image,show=False):\n",
    "        prediction = self.model.predict(image, conf=self.conf_threshold)\n",
    "        if show:\n",
    "            prediction.show()\n",
    "        \n",
    "        detection_pred = prediction._images_prediction_lst\n",
    "        self.detection_list = list(detection_pred)\n",
    " \n",
    "        \n",
    "detect=DetectBuddy()\n"
   ]
  },
  {
   "cell_type": "markdown",
   "metadata": {},
   "source": [
    "# Segmentor class"
   ]
  },
  {
   "cell_type": "code",
   "execution_count": 5,
   "metadata": {},
   "outputs": [],
   "source": [
    "import numpy as np\n",
    "import matplotlib.pyplot as plt\n",
    "\n",
    "import torch\n",
    "from segment_anything import sam_model_registry\n",
    "from segment_anything import SamAutomaticMaskGenerator, sam_model_registry\n",
    "\n",
    "import sys\n",
    "sys.path.append(\"..\")\n",
    "from super_gradients.training import models\n",
    "from segment_anything import  SamPredictor\n",
    "import numpy as np\n",
    "import cv2\n",
    "\n",
    "\n",
    "\n",
    "class SegmentBuddy():\n",
    "    \n",
    "    ##### CODE FROM DOCUMENTATION #####\n",
    "    def show_mask(mask, ax, random_color=False):\n",
    "        if random_color:\n",
    "            color = np.concatenate([np.random.random(3), np.array([0.6])], axis=0)\n",
    "        else:\n",
    "            color = np.array([30/255, 144/255, 255/255, 0.6])\n",
    "        h, w = mask.shape[-2:]\n",
    "        mask_image = mask.reshape(h, w, 1) * color.reshape(1, 1, -1)\n",
    "        ax.imshow(mask_image)\n",
    "\n",
    "    def show_points(coords, labels, ax, marker_size=375):\n",
    "        pos_points = coords[labels==1]\n",
    "        neg_points = coords[labels==0]\n",
    "        ax.scatter(pos_points[:, 0], pos_points[:, 1], color='green', marker='*', s=marker_size, edgecolor='white', linewidth=1.25)\n",
    "        ax.scatter(neg_points[:, 0], neg_points[:, 1], color='red', marker='*', s=marker_size, edgecolor='white', linewidth=1.25)\n",
    "\n",
    "    def show_box(box, ax):\n",
    "        x0, y0 = box[0], box[1]\n",
    "        w, h = box[2] - box[0], box[3] - box[1]\n",
    "        ax.add_patch(plt.Rectangle((x0, y0), w, h, edgecolor='green', facecolor=(0, 0, 0, 0), lw=2))\n",
    "\n",
    "    def show_anns(anns):\n",
    "        if len(anns) == 0:\n",
    "            return\n",
    "        sorted_anns = sorted(anns, key=lambda x: x['area'], reverse=True)\n",
    "        ax = plt.gca()\n",
    "        ax.set_autoscale_on(False)\n",
    "        polygons = []\n",
    "        for ann in sorted_anns:\n",
    "            m = ann['segmentation']\n",
    "            img = np.ones((m.shape[0], m.shape[1], 3))\n",
    "            color_mask = np.random.random((1, 3)).tolist()[0]\n",
    "            for i in range(3):\n",
    "                img[:, :, i] = color_mask[i]\n",
    "            ax.imshow(np.dstack((img, m * 0.35)))\n",
    "            \n",
    "    ##### CODE FROM DOCUMENTATION #####\n",
    "    \n",
    "    \n",
    "    \n",
    "    def __init__(self,path_to_checkpoints, model_type=\"vit_h\",device=\"cuda\" if torch.cuda.is_available() else \"cpu\"):\n",
    "        \n",
    "        self.sam = sam_model_registry[model_type] (checkpoint=path_to_checkpoints)\n",
    "        self.sam.to (device=device)\n",
    "        \n",
    "        self.mask_generator = SamAutomaticMaskGenerator (self.sam)\n",
    "        \n",
    "        self.predictor = SamPredictor(self.sam)\n",
    "            \n",
    "            \n",
    "    def segment_person(self,image_path,show_mask=False):\n",
    "        \n",
    "        \n",
    "        detect.predict_human(image_path)\n",
    "\n",
    "        \n",
    "        detection_list = detect.detection_list\n",
    "\n",
    "        \n",
    "        bboxes_xyxy = detection_list[0].prediction.bboxes_xyxy.tolist()\n",
    "        labels = detection_list[0].prediction.labels.tolist()\n",
    "        \n",
    "        image = cv2.imread(image_path)\n",
    "        \n",
    "        masks = self.mask_generator.generate(image)\n",
    "\n",
    "        self.predictor.set_image(image)\n",
    "\n",
    "        image = image.transpose((2, 0, 1))  # Transpose to match SAM input format\n",
    "        image = image / 255.0  # Normalize image values to [0, 1]\n",
    "        image = np.expand_dims(image, axis=0)  # Add batch dimension\n",
    "        input_box = np.array(bboxes_xyxy[0])\n",
    "        \n",
    "        if labels[0] == 0:\n",
    "           \n",
    "            masks, _, _ = self.predictor.predict(\n",
    "                point_coords=None,\n",
    "                point_labels=None,\n",
    "                box=input_box[None, :],\n",
    "                multimask_output=False,\n",
    "            )\n",
    "    \n",
    "        masked_image = cv2.bitwise_and(image[0].transpose((1, 2, 0)), image[0].transpose((1, 2, 0)), mask=masks[0].astype(np.uint8))\n",
    "        \n",
    "        \n",
    "        if show_mask:\n",
    "            plt.imshow(image[0].transpose((1, 2, 0)))\n",
    "            if labels[0] == 0:\n",
    "                plt.imshow(masks[0], alpha=0.5)\n",
    "                \n",
    "       \n",
    "        return masked_image\n",
    "\n",
    "        \n",
    "segmentor=SegmentBuddy(\"../resources/sam_vit_h_4b8939.pth\")       "
   ]
  },
  {
   "cell_type": "code",
   "execution_count": 6,
   "metadata": {},
   "outputs": [],
   "source": [
    "masked_image=segmentor.segment_person(\"../preprocessed-data/good_ankle/9.jpg\")"
   ]
  },
  {
   "cell_type": "code",
   "execution_count": 7,
   "metadata": {},
   "outputs": [
    {
     "data": {
      "text/plain": [
       "<matplotlib.image.AxesImage at 0x7f342026f0d0>"
      ]
     },
     "execution_count": 7,
     "metadata": {},
     "output_type": "execute_result"
    },
    {
     "data": {
      "image/png": "[encoded data removed]",
      "text/plain": [
       "<Figure size 640x480 with 1 Axes>"
      ]
     },
     "metadata": {},
     "output_type": "display_data"
    }
   ],
   "source": [
    "plt.imshow(masked_image)"
   ]
  },
  {
   "cell_type": "code",
   "execution_count": 8,
   "metadata": {},
   "outputs": [
    {
     "data": {
      "text/plain": [
       "True"
      ]
     },
     "execution_count": 8,
     "metadata": {},
     "output_type": "execute_result"
    }
   ],
   "source": [
    "masked_image= cv2.convertScaleAbs(masked_image, alpha=(255.0))\n",
    "cv2.imwrite(\"../segmented-data/test.jpg\",masked_image)"
   ]
  },
  {
   "cell_type": "code",
   "execution_count": 6,
   "metadata": {},
   "outputs": [
    {
     "name": "stdout",
     "output_type": "stream",
     "text": [
      "../segmented-data/bad_ankle_right\n"
     ]
    }
   ],
   "source": [
    "director.export_to_directory('../segmented-data',segmentor.segment_person)"
   ]
  }
 ],
 "metadata": {
  "kernelspec": {
   "display_name": "Python 3",
   "language": "python",
   "name": "python3"
  },
  "language_info": {
   "codemirror_mode": {
    "name": "ipython",
    "version": 3
   },
   "file_extension": ".py",
   "mimetype": "text/x-python",
   "name": "python",
   "nbconvert_exporter": "python",
   "pygments_lexer": "ipython3",
   "version": "3.10.6"
  },
  "orig_nbformat": 4
 },
 "nbformat": 4,
 "nbformat_minor": 2
}
